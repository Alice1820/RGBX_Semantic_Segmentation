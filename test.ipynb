{
 "cells": [
  {
   "cell_type": "code",
   "execution_count": 1,
   "metadata": {},
   "outputs": [
    {
     "ename": "ModuleNotFoundError",
     "evalue": "No module named 'torch'",
     "output_type": "error",
     "traceback": [
      "\u001b[0;31m---------------------------------------------------------------------------\u001b[0m",
      "\u001b[0;31mModuleNotFoundError\u001b[0m                       Traceback (most recent call last)",
      "\u001b[1;32m/Users/alice/Documents/GitHub/RGBX_Semantic_Segmentation/test.ipynb Cell 1\u001b[0m in \u001b[0;36m<cell line: 1>\u001b[0;34m()\u001b[0m\n\u001b[0;32m----> <a href='vscode-notebook-cell:/Users/alice/Documents/GitHub/RGBX_Semantic_Segmentation/test.ipynb#ch0000000?line=0'>1</a>\u001b[0m \u001b[39mimport\u001b[39;00m \u001b[39mtorch\u001b[39;00m\n\u001b[1;32m      <a href='vscode-notebook-cell:/Users/alice/Documents/GitHub/RGBX_Semantic_Segmentation/test.ipynb#ch0000000?line=2'>3</a>\u001b[0m \u001b[39mdef\u001b[39;00m \u001b[39m_construct_new_file_names\u001b[39m(length):\n\u001b[1;32m      <a href='vscode-notebook-cell:/Users/alice/Documents/GitHub/RGBX_Semantic_Segmentation/test.ipynb#ch0000000?line=3'>4</a>\u001b[0m     \u001b[39massert\u001b[39;00m \u001b[39misinstance\u001b[39m(length, \u001b[39mint\u001b[39m)\n",
      "\u001b[0;31mModuleNotFoundError\u001b[0m: No module named 'torch'"
     ]
    }
   ],
   "source": [
    "import torch\n",
    "\n",
    "def _construct_new_file_names(length):\n",
    "    assert isinstance(length, int)\n",
    "    files_len = len(self._file_names)                          \n",
    "    new_file_names = self._file_names * (length // files_len)   \n",
    "\n",
    "    rand_indices = torch.randperm(files_len).tolist()\n",
    "    new_indices = rand_indices[:length % files_len]\n",
    "\n",
    "    new_file_names += [self._file_names[i] for i in new_indices]\n",
    "\n",
    "    return new_file_names"
   ]
  }
 ],
 "metadata": {
  "kernelspec": {
   "display_name": "Python 3.10.7 64-bit",
   "language": "python",
   "name": "python3"
  },
  "language_info": {
   "codemirror_mode": {
    "name": "ipython",
    "version": 3
   },
   "file_extension": ".py",
   "mimetype": "text/x-python",
   "name": "python",
   "nbconvert_exporter": "python",
   "pygments_lexer": "ipython3",
   "version": "3.10.7"
  },
  "orig_nbformat": 4,
  "vscode": {
   "interpreter": {
    "hash": "aee8b7b246df8f9039afb4144a1f6fd8d2ca17a180786b69acc140d282b71a49"
   }
  }
 },
 "nbformat": 4,
 "nbformat_minor": 2
}
